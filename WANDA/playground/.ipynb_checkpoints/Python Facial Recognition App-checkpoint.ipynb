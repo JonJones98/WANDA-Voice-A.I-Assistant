{
 "cells": [
  {
   "cell_type": "code",
   "execution_count": 16,
   "id": "489ceadf",
   "metadata": {},
   "outputs": [],
   "source": [
    "#!pip install tensorflow opencv-python matplotlib"
   ]
  },
  {
   "cell_type": "code",
   "execution_count": 17,
   "id": "6e046958",
   "metadata": {},
   "outputs": [],
   "source": [
    "# Import Library\n",
    "import cv2\n",
    "import os\n",
    "import random\n",
    "import numpy as np\n",
    "from matplotlib import pyplot as plt\n",
    "import uuid"
   ]
  },
  {
   "cell_type": "code",
   "execution_count": 18,
   "id": "43275855",
   "metadata": {},
   "outputs": [],
   "source": [
    "#Insert tensorflow dependencies - functional API\n",
    "from tensorflow.keras.models import Model\n",
    "from tensorflow.keras.layers import Layer, Conv2D, Dense, MaxPooling2D, Input, Flatten\n",
    "import tensorflow as tf\n",
    " "
   ]
  },
  {
   "cell_type": "code",
   "execution_count": 19,
   "id": "ba6ab8f1",
   "metadata": {},
   "outputs": [],
   "source": [
    "#Set GPU Growth\n",
    "gpus  = tf.config.experimental.list_physical_devices('GPU')\n",
    "for gpu in gpus:\n",
    "    tf.config.experimental.set_memory_growth(gpu, True)"
   ]
  },
  {
   "cell_type": "code",
   "execution_count": 20,
   "id": "35f0b374",
   "metadata": {},
   "outputs": [],
   "source": [
    "#Folder Structure\n",
    "POS_PATH = os.path.join('data', 'positive')\n",
    "NEG_PATH = os.path.join('data', 'negative')\n",
    "ANG_PATH = os.path.join('data', 'anchor')"
   ]
  },
  {
   "cell_type": "code",
   "execution_count": 21,
   "id": "b2a5b9dc",
   "metadata": {},
   "outputs": [],
   "source": [
    "#os.makedirs(POS_PATH)\n",
    "#os.makedirs(NEG_PATH)\n",
    "#os.makedirs(ANG_PATH)"
   ]
  },
  {
   "cell_type": "code",
   "execution_count": 22,
   "id": "91658782",
   "metadata": {},
   "outputs": [],
   "source": [
    "#http://vis-www.cs.umass.edu/Lfw/\n",
    "#Uncompress LFW.Tar FILE\n",
    "#!tar -xf lfw.tar\n",
    " "
   ]
  },
  {
   "cell_type": "code",
   "execution_count": 23,
   "id": "b0581851",
   "metadata": {},
   "outputs": [],
   "source": [
    "#Move LFW IMAGES to NEG_PATH\n",
    "#for directory in os.listdir('lfw'):\n",
    "#    for file in os.listdir(os.path.join('lfw',directory)):\n",
    "#        EX_PATH = os.path.join('lfw', directory, file)\n",
    "#        NEW_PATH = os.path.join(NEG_PATH, file)\n",
    "#        os.replace(EX_PATH, NEW_PATH)"
   ]
  },
  {
   "cell_type": "code",
   "execution_count": 24,
   "id": "7edb9b20",
   "metadata": {},
   "outputs": [],
   "source": [
    "#Collect Positive and Anchor classes\n",
    "#__Webcam Connection\n",
    "cap = cv2.VideoCapture(0)\n",
    "while cap.isOpened():\n",
    "    ret, frame = cap.read()\n",
    "    \n",
    "    #Adjust frame size\n",
    "    frame = frame[150:150+250, 200:200+250, :]\n",
    "    \n",
    "    #Collect anchors\n",
    "    if cv2.waitKey(1) & 0XFF == ord('a'):\n",
    "        imgname = os.path.join(ANG_PATH, '{}.jpg'.format(uuid.uuid1()))\n",
    "        cv2.imwrite(imgname, frame)\n",
    "    #Collect positives\n",
    "    if cv2.waitKey(1) & 0XFF == ord('p'):\n",
    "        imgname = os.path.join(POS_PATH, '{}.jpg'.format(uuid.uuid1()))\n",
    "        cv2.imwrite(imgname, frame)\n",
    "    \n",
    "    #Show image back to screen\n",
    "    cv2.imshow('Image Collection', frame)\n",
    "    \n",
    "    #Break\n",
    "    if cv2.waitKey(1) & 0XFF == ord('q'):\n",
    "        break\n",
    "cap.release()\n",
    "cv2.destroyAllWindows()"
   ]
  },
  {
   "cell_type": "code",
   "execution_count": null,
   "id": "0ac39af0",
   "metadata": {},
   "outputs": [],
   "source": [
    "#Get Image Directories\n",
    "anchor = tf.data.Dataset.list_files(ANC_PATH+'\\*.jpg').take(20)\n",
    "positive = tf.data.Dataset.list_files(POS_PATH+'\\*.jpg').take(20)\n",
    "negative = tf.data.Dataset.list_files(NEG_PATH+'\\*.jpg').take(20)"
   ]
  },
  {
   "cell_type": "code",
   "execution_count": null,
   "id": "baed5445",
   "metadata": {},
   "outputs": [],
   "source": []
  }
 ],
 "metadata": {
  "kernelspec": {
   "display_name": "Python 3 (ipykernel)",
   "language": "python",
   "name": "python3"
  },
  "language_info": {
   "codemirror_mode": {
    "name": "ipython",
    "version": 3
   },
   "file_extension": ".py",
   "mimetype": "text/x-python",
   "name": "python",
   "nbconvert_exporter": "python",
   "pygments_lexer": "ipython3",
   "version": "3.11.2"
  }
 },
 "nbformat": 4,
 "nbformat_minor": 5
}
